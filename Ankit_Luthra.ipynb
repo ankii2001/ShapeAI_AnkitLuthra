{
  "nbformat": 4,
  "nbformat_minor": 0,
  "metadata": {
    "colab": {
      "name": "Ankit Luthra.ipynb",
      "provenance": []
    },
    "kernelspec": {
      "name": "python3",
      "display_name": "Python 3"
    },
    "language_info": {
      "name": "python"
    }
  },
  "cells": [
    {
      "cell_type": "markdown",
      "metadata": {
        "id": "ie8seWEKODYJ"
      },
      "source": [
        "Importing Dataset"
      ]
    },
    {
      "cell_type": "code",
      "metadata": {
        "id": "3Bdn-hzUMCn4"
      },
      "source": [
        "from keras.datasets import mnist\n",
        "\n",
        "data = mnist.load_data()"
      ],
      "execution_count": 63,
      "outputs": []
    },
    {
      "cell_type": "markdown",
      "metadata": {
        "id": "vDgsQyCsOJEe"
      },
      "source": [
        "Training & Testing Data"
      ]
    },
    {
      "cell_type": "code",
      "metadata": {
        "id": "9X6_FrucORZg"
      },
      "source": [
        "(X_train, y_train), (X_test, y_test) = data"
      ],
      "execution_count": 64,
      "outputs": []
    },
    {
      "cell_type": "markdown",
      "metadata": {
        "id": "36aJQkUbPXyo"
      },
      "source": [
        "Shape of training data"
      ]
    },
    {
      "cell_type": "code",
      "metadata": {
        "colab": {
          "base_uri": "https://localhost:8080/"
        },
        "id": "6JyCnyG_PbgX",
        "outputId": "71ec90e3-cbed-48c2-cf7c-a1ec81556dd2"
      },
      "source": [
        "X_train[0].shape"
      ],
      "execution_count": 65,
      "outputs": [
        {
          "output_type": "execute_result",
          "data": {
            "text/plain": [
              "(28, 28)"
            ]
          },
          "metadata": {
            "tags": []
          },
          "execution_count": 65
        }
      ]
    },
    {
      "cell_type": "markdown",
      "metadata": {
        "id": "QyXTH-vaPqYH"
      },
      "source": [
        "Reshape the training data"
      ]
    },
    {
      "cell_type": "code",
      "metadata": {
        "id": "wyNLC3QnP1zA"
      },
      "source": [
        "X_train = X_train.reshape((X_train.shape[0], 28*28)).astype('float32')\n",
        "X_test = X_test.reshape((X_test.shape[0], 28*28)).astype('float32')"
      ],
      "execution_count": 66,
      "outputs": []
    },
    {
      "cell_type": "markdown",
      "metadata": {
        "id": "diavN0bNRLHe"
      },
      "source": [
        "Normalizing Values (1 - 255) to (1 - 0)"
      ]
    },
    {
      "cell_type": "code",
      "metadata": {
        "id": "TDfvWtmLRVLs"
      },
      "source": [
        "X_train = X_train/255\n",
        "X_test = X_test/255"
      ],
      "execution_count": 67,
      "outputs": []
    },
    {
      "cell_type": "code",
      "metadata": {
        "colab": {
          "base_uri": "https://localhost:8080/"
        },
        "id": "1hZRoCc5TW7S",
        "outputId": "888f4522-3eda-4e97-d1fb-6d6e30f29073"
      },
      "source": [
        "from keras.utils import np_utils\n",
        "\n",
        "y_train = np_utils.to_categorical(y_train)\n",
        "\n",
        "y_test = np_utils.to_categorical(y_test)\n",
        "num_classes = y_test.shape[1]\n",
        "print(y_test.shape)"
      ],
      "execution_count": 68,
      "outputs": [
        {
          "output_type": "stream",
          "text": [
            "(10000, 10)\n"
          ],
          "name": "stdout"
        }
      ]
    },
    {
      "cell_type": "code",
      "metadata": {
        "id": "5cQjyB7lVM1L"
      },
      "source": [
        "from keras.models import Sequential\n",
        "from keras.layers import Dense"
      ],
      "execution_count": 69,
      "outputs": []
    },
    {
      "cell_type": "code",
      "metadata": {
        "id": "tEeDANCBW-hJ"
      },
      "source": [
        "# Define  Model\n",
        "model = Sequential()\n",
        "\n",
        "# Add first hidden layer\n",
        "model.add(Dense(32, input_dim = 28*28, activation = 'relu'))\n",
        "\n",
        "# Add second hidden layer\n",
        "model.add(Dense(64, activation = 'relu'))\n",
        "\n",
        "# Add output layer having 10 neurons\n",
        "model.add(Dense(10, activation = 'softmax'))"
      ],
      "execution_count": 70,
      "outputs": []
    },
    {
      "cell_type": "markdown",
      "metadata": {
        "id": "3uzNDURBZJzR"
      },
      "source": [
        "Compile Model"
      ]
    },
    {
      "cell_type": "code",
      "metadata": {
        "id": "HhFN-wqjZNzU"
      },
      "source": [
        "model.compile(loss = 'categorical_crossentropy', optimizer = 'adam', metrics =['accuracy'])"
      ],
      "execution_count": 71,
      "outputs": []
    },
    {
      "cell_type": "markdown",
      "metadata": {
        "id": "aNjL1QBrZzKe"
      },
      "source": [
        "Printing Model summary"
      ]
    },
    {
      "cell_type": "code",
      "metadata": {
        "colab": {
          "base_uri": "https://localhost:8080/"
        },
        "id": "QXqlUGvAZ9QO",
        "outputId": "b77a5b9f-006d-4346-8e94-15df220f734d"
      },
      "source": [
        "model.summary()"
      ],
      "execution_count": 72,
      "outputs": [
        {
          "output_type": "stream",
          "text": [
            "Model: \"sequential_9\"\n",
            "_________________________________________________________________\n",
            "Layer (type)                 Output Shape              Param #   \n",
            "=================================================================\n",
            "dense_25 (Dense)             (None, 32)                25120     \n",
            "_________________________________________________________________\n",
            "dense_26 (Dense)             (None, 64)                2112      \n",
            "_________________________________________________________________\n",
            "dense_27 (Dense)             (None, 10)                650       \n",
            "=================================================================\n",
            "Total params: 27,882\n",
            "Trainable params: 27,882\n",
            "Non-trainable params: 0\n",
            "_________________________________________________________________\n"
          ],
          "name": "stdout"
        }
      ]
    },
    {
      "cell_type": "markdown",
      "metadata": {
        "id": "aMb4nsCVaXpx"
      },
      "source": [
        "Training the Model"
      ]
    },
    {
      "cell_type": "code",
      "metadata": {
        "colab": {
          "base_uri": "https://localhost:8080/"
        },
        "id": "gfeJvvcDaeuK",
        "outputId": "294881bd-f751-46c1-d736-faaca9243545"
      },
      "source": [
        "model.fit(X_train, y_train, epochs = 10, batch_size = 100)"
      ],
      "execution_count": 73,
      "outputs": [
        {
          "output_type": "stream",
          "text": [
            "Epoch 1/10\n",
            "600/600 [==============================] - 2s 2ms/step - loss: 0.7862 - accuracy: 0.7795\n",
            "Epoch 2/10\n",
            "600/600 [==============================] - 1s 2ms/step - loss: 0.2072 - accuracy: 0.9407\n",
            "Epoch 3/10\n",
            "600/600 [==============================] - 1s 2ms/step - loss: 0.1583 - accuracy: 0.9534\n",
            "Epoch 4/10\n",
            "600/600 [==============================] - 2s 2ms/step - loss: 0.1281 - accuracy: 0.9620\n",
            "Epoch 5/10\n",
            "600/600 [==============================] - 2s 3ms/step - loss: 0.1084 - accuracy: 0.9681\n",
            "Epoch 6/10\n",
            "600/600 [==============================] - 1s 2ms/step - loss: 0.0945 - accuracy: 0.9720\n",
            "Epoch 7/10\n",
            "600/600 [==============================] - 1s 2ms/step - loss: 0.0845 - accuracy: 0.9749\n",
            "Epoch 8/10\n",
            "600/600 [==============================] - 1s 2ms/step - loss: 0.0732 - accuracy: 0.9779\n",
            "Epoch 9/10\n",
            "600/600 [==============================] - 2s 3ms/step - loss: 0.0675 - accuracy: 0.9787\n",
            "Epoch 10/10\n",
            "600/600 [==============================] - 1s 2ms/step - loss: 0.0638 - accuracy: 0.9803\n"
          ],
          "name": "stdout"
        },
        {
          "output_type": "execute_result",
          "data": {
            "text/plain": [
              "<tensorflow.python.keras.callbacks.History at 0x7f71e52ed8d0>"
            ]
          },
          "metadata": {
            "tags": []
          },
          "execution_count": 73
        }
      ]
    },
    {
      "cell_type": "markdown",
      "metadata": {
        "id": "RnyPchbScJhl"
      },
      "source": [
        "Checking the model performance"
      ]
    },
    {
      "cell_type": "code",
      "metadata": {
        "colab": {
          "base_uri": "https://localhost:8080/"
        },
        "id": "Bht9gGGOcQsZ",
        "outputId": "ece52e42-79bc-4602-c0a6-d92ff8795766"
      },
      "source": [
        "scores = model.evaluate(X_test, y_test)\n",
        "print(scores)"
      ],
      "execution_count": 74,
      "outputs": [
        {
          "output_type": "stream",
          "text": [
            "313/313 [==============================] - 0s 1ms/step - loss: 0.0980 - accuracy: 0.9692\n",
            "[0.09800738841295242, 0.9692000150680542]\n"
          ],
          "name": "stdout"
        }
      ]
    }
  ]
}